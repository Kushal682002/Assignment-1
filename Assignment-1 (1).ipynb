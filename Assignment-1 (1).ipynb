{
 "cells": [
  {
   "cell_type": "markdown",
   "id": "1572f0ff-1402-491c-bec5-02a7bd038eeb",
   "metadata": {},
   "source": [
    "# Ans 1"
   ]
  },
  {
   "cell_type": "markdown",
   "id": "190b20ec-432e-4544-bc69-756549a41716",
   "metadata": {},
   "source": [
    "#### ans1(i)"
   ]
  },
  {
   "cell_type": "code",
   "execution_count": 2,
   "id": "4f648d3d-ab2e-4c2b-90eb-c5432a04b48f",
   "metadata": {},
   "outputs": [],
   "source": [
    "a = \"Kushal\""
   ]
  },
  {
   "cell_type": "code",
   "execution_count": 3,
   "id": "7674aebb-7c8a-4c8b-bec7-fffd8afc37a0",
   "metadata": {},
   "outputs": [
    {
     "data": {
      "text/plain": [
       "str"
      ]
     },
     "execution_count": 3,
     "metadata": {},
     "output_type": "execute_result"
    }
   ],
   "source": [
    "type(a)"
   ]
  },
  {
   "cell_type": "code",
   "execution_count": 10,
   "id": "ca6e6178-3711-40e5-a3d6-271e66cb1eb3",
   "metadata": {},
   "outputs": [
    {
     "name": "stdout",
     "output_type": "stream",
     "text": [
      "Kushal\n"
     ]
    }
   ],
   "source": [
    "print(a)"
   ]
  },
  {
   "cell_type": "markdown",
   "id": "50a18ee4-cd57-44ac-970e-f3438c6495d4",
   "metadata": {},
   "source": [
    "#### ans1(ii)"
   ]
  },
  {
   "cell_type": "code",
   "execution_count": 11,
   "id": "603679f9-1336-4c5e-a912-3fe5b442cddc",
   "metadata": {},
   "outputs": [],
   "source": [
    "b = [1,2,3,\"Kushal\",34.5,True]"
   ]
  },
  {
   "cell_type": "code",
   "execution_count": 12,
   "id": "22bd97c1-4498-4a04-96fe-4b13d4281f86",
   "metadata": {},
   "outputs": [
    {
     "data": {
      "text/plain": [
       "[1, 2, 3, 'Kushal', 34.5, True]"
      ]
     },
     "execution_count": 12,
     "metadata": {},
     "output_type": "execute_result"
    }
   ],
   "source": [
    "b"
   ]
  },
  {
   "cell_type": "code",
   "execution_count": 13,
   "id": "00713e29-7bb3-43e2-8d13-656492793a45",
   "metadata": {},
   "outputs": [
    {
     "data": {
      "text/plain": [
       "list"
      ]
     },
     "execution_count": 13,
     "metadata": {},
     "output_type": "execute_result"
    }
   ],
   "source": [
    "type(b)"
   ]
  },
  {
   "cell_type": "markdown",
   "id": "1fe59722-d431-4587-b13d-4a9e194ae246",
   "metadata": {},
   "source": [
    "#### ans1(iii)"
   ]
  },
  {
   "cell_type": "code",
   "execution_count": 1,
   "id": "98883d34-b71b-4e89-9343-05e65363d4a5",
   "metadata": {},
   "outputs": [],
   "source": [
    "c = 34.4"
   ]
  },
  {
   "cell_type": "code",
   "execution_count": 2,
   "id": "503daaf9-a929-4f45-b158-0e6a1a8aa42b",
   "metadata": {},
   "outputs": [
    {
     "data": {
      "text/plain": [
       "34.4"
      ]
     },
     "execution_count": 2,
     "metadata": {},
     "output_type": "execute_result"
    }
   ],
   "source": [
    "c"
   ]
  },
  {
   "cell_type": "code",
   "execution_count": 4,
   "id": "6800b9dd-2a94-4a9d-851e-4509bdd71554",
   "metadata": {},
   "outputs": [
    {
     "data": {
      "text/plain": [
       "float"
      ]
     },
     "execution_count": 4,
     "metadata": {},
     "output_type": "execute_result"
    }
   ],
   "source": [
    "type(c)"
   ]
  },
  {
   "cell_type": "markdown",
   "id": "5d862507-533e-47a9-840d-95a037378866",
   "metadata": {},
   "source": [
    "#### ans1(iv)"
   ]
  },
  {
   "cell_type": "code",
   "execution_count": 7,
   "id": "4facc871-cbb2-4a20-8fcf-1408b7edcf96",
   "metadata": {},
   "outputs": [],
   "source": [
    "d = (1,2,3,\"kushal\")"
   ]
  },
  {
   "cell_type": "code",
   "execution_count": 8,
   "id": "c23d6567-4b06-49b5-aa03-b30921cea094",
   "metadata": {},
   "outputs": [
    {
     "data": {
      "text/plain": [
       "tuple"
      ]
     },
     "execution_count": 8,
     "metadata": {},
     "output_type": "execute_result"
    }
   ],
   "source": [
    "type(d)"
   ]
  },
  {
   "cell_type": "markdown",
   "id": "4438fab8-eeda-4b6f-b50e-88f4842fdcdf",
   "metadata": {},
   "source": [
    "# Ans 2"
   ]
  },
  {
   "cell_type": "markdown",
   "id": "80d74402",
   "metadata": {},
   "source": [
    " ans2(i) -> String"
   ]
  },
  {
   "cell_type": "markdown",
   "id": "819f3031",
   "metadata": {},
   "source": [
    "ans2(ii) ---> String"
   ]
  },
  {
   "cell_type": "markdown",
   "id": "75794469",
   "metadata": {},
   "source": [
    "ans2(iii) ---> List"
   ]
  },
  {
   "cell_type": "markdown",
   "id": "88b3e629",
   "metadata": {},
   "source": [
    "ans2(iv) ---> Integer"
   ]
  },
  {
   "cell_type": "markdown",
   "id": "a74b2ae5-e81d-4124-8dad-8918be6e2367",
   "metadata": {},
   "source": [
    "# Ans 3"
   ]
  },
  {
   "cell_type": "markdown",
   "id": "2a5ea3e6",
   "metadata": {},
   "source": [
    " ans3(i) --> '/' is called division operator and it returns the exact result of the division operation as a floating point number"
   ]
  },
  {
   "cell_type": "code",
   "execution_count": 22,
   "id": "57a56bba-ae8b-4867-87be-85cd2526e906",
   "metadata": {},
   "outputs": [
    {
     "data": {
      "text/plain": [
       "0.6666666666666666"
      ]
     },
     "execution_count": 22,
     "metadata": {},
     "output_type": "execute_result"
    }
   ],
   "source": [
    "2/3"
   ]
  },
  {
   "cell_type": "markdown",
   "id": "0bc76fb9",
   "metadata": {},
   "source": [
    " ans3(ii) --> '%' is called modulo operator and is used to find the remainder after the division of one number by another."
   ]
  },
  {
   "cell_type": "code",
   "execution_count": 23,
   "id": "35842b6c-58dc-4af2-81c1-fe1a127f541c",
   "metadata": {},
   "outputs": [
    {
     "data": {
      "text/plain": [
       "2.0"
      ]
     },
     "execution_count": 23,
     "metadata": {},
     "output_type": "execute_result"
    }
   ],
   "source": [
    "4/2"
   ]
  },
  {
   "cell_type": "markdown",
   "id": "613e84e4",
   "metadata": {},
   "source": [
    " ans3(iii) -->  '//' is called floor division operator and is used to return the quotient rounded down to the nearest Integer on dividing."
   ]
  },
  {
   "cell_type": "code",
   "execution_count": 26,
   "id": "119955c1-3345-49d9-b983-bf82d52dc9ed",
   "metadata": {},
   "outputs": [
    {
     "data": {
      "text/plain": [
       "0"
      ]
     },
     "execution_count": 26,
     "metadata": {},
     "output_type": "execute_result"
    }
   ],
   "source": [
    "2//3"
   ]
  },
  {
   "cell_type": "markdown",
   "id": "056c6ec8",
   "metadata": {},
   "source": [
    " ans3(iv) ---> '**' is called exponent operator and is used to perform the exponential calculation"
   ]
  },
  {
   "cell_type": "code",
   "execution_count": 27,
   "id": "47a80414-db99-42ec-98c1-7681fb510d8d",
   "metadata": {},
   "outputs": [
    {
     "data": {
      "text/plain": [
       "8"
      ]
     },
     "execution_count": 27,
     "metadata": {},
     "output_type": "execute_result"
    }
   ],
   "source": [
    "2**3"
   ]
  },
  {
   "cell_type": "markdown",
   "id": "9546049d-d368-4286-8503-aef0953882b9",
   "metadata": {},
   "source": [
    "# Ans 4"
   ]
  },
  {
   "cell_type": "code",
   "execution_count": 28,
   "id": "2a9147b7-1ca1-417c-8997-0b2c248ea23e",
   "metadata": {},
   "outputs": [],
   "source": [
    "l = [1,2,3,\"Kushal\",\"Agrawal\",34.5,[10,23,\"PwSkills\"],True,False,34.444];"
   ]
  },
  {
   "cell_type": "code",
   "execution_count": 29,
   "id": "78798e4e-1faf-42fd-ac9e-56115b859c60",
   "metadata": {},
   "outputs": [
    {
     "data": {
      "text/plain": [
       "[1, 2, 3, 'Kushal', 'Agrawal', 34.5, [10, 23, 'PwSkills'], True, False, 34.444]"
      ]
     },
     "execution_count": 29,
     "metadata": {},
     "output_type": "execute_result"
    }
   ],
   "source": [
    "l"
   ]
  },
  {
   "cell_type": "code",
   "execution_count": 30,
   "id": "edc1bde0-fca1-4234-a24a-cdabcc5ce8a6",
   "metadata": {},
   "outputs": [
    {
     "data": {
      "text/plain": [
       "list"
      ]
     },
     "execution_count": 30,
     "metadata": {},
     "output_type": "execute_result"
    }
   ],
   "source": [
    "type(l)"
   ]
  },
  {
   "cell_type": "code",
   "execution_count": null,
   "id": "0a7f5d6c-d7b9-4f84-bc38-4733bb92fdea",
   "metadata": {},
   "outputs": [],
   "source": [
    "for i in l:\n",
    "    print(i,\" \",type(i));\n",
    "    "
   ]
  },
  {
   "cell_type": "markdown",
   "id": "056309c4-7d24-43a4-be4e-745af31151d2",
   "metadata": {},
   "source": [
    "# Ans 5"
   ]
  },
  {
   "cell_type": "code",
   "execution_count": 8,
   "id": "d9379ef6-bbcd-44e4-a705-62335178b5f2",
   "metadata": {},
   "outputs": [
    {
     "name": "stdout",
     "output_type": "stream",
     "text": [
      "Enter the number : 36\n"
     ]
    }
   ],
   "source": [
    "A = (int)(input(\"Enter the number : \"))"
   ]
  },
  {
   "cell_type": "code",
   "execution_count": 9,
   "id": "5622157e-f960-4d7c-a69b-7267a94e0f32",
   "metadata": {},
   "outputs": [
    {
     "name": "stdout",
     "output_type": "stream",
     "text": [
      "Enter another number : 2\n"
     ]
    }
   ],
   "source": [
    "B = (int)(input(\"Enter another number : \"))"
   ]
  },
  {
   "cell_type": "code",
   "execution_count": 12,
   "id": "ae879b6f-26a1-45b3-b339-1592a96cfa71",
   "metadata": {},
   "outputs": [],
   "source": [
    "count = 0\n",
    "while (A%B==0):\n",
    "    count = count + 1;\n",
    "    A = A//B;\n"
   ]
  },
  {
   "cell_type": "code",
   "execution_count": 30,
   "id": "c6e5b626-476c-4666-8cdf-3c8f43829194",
   "metadata": {},
   "outputs": [
    {
     "name": "stdout",
     "output_type": "stream",
     "text": [
      "A is divided by B by 2 times \n"
     ]
    }
   ],
   "source": [
    "print(\"A is divided by B by\",count,\"times \");"
   ]
  },
  {
   "cell_type": "markdown",
   "id": "d59e1225",
   "metadata": {},
   "source": [
    "# Ans 6"
   ]
  },
  {
   "cell_type": "code",
   "execution_count": 32,
   "id": "ba57177a",
   "metadata": {},
   "outputs": [],
   "source": [
    "l = [1,2,3,4,5,6,7,8,9,10,11,12,13,14,15,16,17,18,19,20,21,22,23,24,25]"
   ]
  },
  {
   "cell_type": "code",
   "execution_count": 33,
   "id": "1b344c59",
   "metadata": {},
   "outputs": [
    {
     "name": "stdout",
     "output_type": "stream",
     "text": [
      "1 is not divisible by 3\n",
      "2 is not divisible by 3\n",
      "3 is divisible by 3\n",
      "4 is not divisible by 3\n",
      "5 is not divisible by 3\n",
      "6 is divisible by 3\n",
      "7 is not divisible by 3\n",
      "8 is not divisible by 3\n",
      "9 is divisible by 3\n",
      "10 is not divisible by 3\n",
      "11 is not divisible by 3\n",
      "12 is divisible by 3\n",
      "13 is not divisible by 3\n",
      "14 is not divisible by 3\n",
      "15 is divisible by 3\n",
      "16 is not divisible by 3\n",
      "17 is not divisible by 3\n",
      "18 is divisible by 3\n",
      "19 is not divisible by 3\n",
      "20 is not divisible by 3\n",
      "21 is divisible by 3\n",
      "22 is not divisible by 3\n",
      "23 is not divisible by 3\n",
      "24 is divisible by 3\n",
      "25 is not divisible by 3\n"
     ]
    }
   ],
   "source": [
    "for i in l:\n",
    "    if(i%3==0):\n",
    "        print(f\"{i} is divisible by 3\");\n",
    "    else:\n",
    "        print(f\"{i} is not divisible by 3\");"
   ]
  },
  {
   "cell_type": "markdown",
   "id": "91a17f7b",
   "metadata": {},
   "source": [
    "# Ans 7"
   ]
  },
  {
   "cell_type": "markdown",
   "id": "fb25546c",
   "metadata": {},
   "source": [
    "Mutable Data-types --> These are those data types which can be modified,individual elements can be replaced and the order of elements can be changed even after the list has been created.\n",
    "            Example - Lists,dictionary,sets etc.\n",
    "\n",
    "Immutable Data-types --> These are those data types which cannot be modified and cannot be replaced .\n",
    "            Example - Strings,tuples etc."
   ]
  },
  {
   "cell_type": "code",
   "execution_count": null,
   "id": "37c5e416",
   "metadata": {},
   "outputs": [],
   "source": []
  }
 ],
 "metadata": {
  "kernelspec": {
   "display_name": "Python 3 (ipykernel)",
   "language": "python",
   "name": "python3"
  },
  "language_info": {
   "codemirror_mode": {
    "name": "ipython",
    "version": 3
   },
   "file_extension": ".py",
   "mimetype": "text/x-python",
   "name": "python",
   "nbconvert_exporter": "python",
   "pygments_lexer": "ipython3",
   "version": "3.11.2"
  }
 },
 "nbformat": 4,
 "nbformat_minor": 5
}
